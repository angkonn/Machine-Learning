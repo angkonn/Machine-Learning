{
  "nbformat": 4,
  "nbformat_minor": 0,
  "metadata": {
    "colab": {
      "provenance": []
    },
    "kernelspec": {
      "name": "python3",
      "display_name": "Python 3"
    },
    "language_info": {
      "name": "python"
    }
  },
  "cells": [
    {
      "cell_type": "markdown",
      "source": [
        "\n",
        "### **কাউন্ট ভেক্টরাইজার কী?**  \n",
        "**Count Vectorizer** হল মেশিন লার্নিং-এ টেক্সট ডেটাকে **সংখ্যায় রূপান্তর** করার একটি পদ্ধতি। এটি টেক্সটের প্রতিটি শব্দ (word) কতবার **দেখা গিয়েছে** সেটা গণনা করে, আর সেই সংখ্যাগুলোকে একটি **ম্যাট্রিক্স** (সারণি) আকারে সাজায়।  \n",
        "\n",
        "---\n",
        "\n",
        "### **কাজ করার পদ্ধতি:**  \n",
        "১. **ভোকাবুলারি তৈরি (Build Vocabulary):**  \n",
        "   - প্রথমে এটি সমস্ত টেক্সট ডেটা (যেমন: বাক্য বা ডকুমেন্ট) পড়ে **ইউনিক শব্দগুলোর একটি লিস্ট** তৈরি করে। এই লিস্টকে বলে **Vocabulary** (ভোকাবুলারি)।  \n",
        "   - *উদাহরণ:* [\"I love cats\", \"I love dogs\"] → Vocabulary: [\"I\", \"love\", \"cats\", \"dogs\"]  \n",
        "\n",
        "২. **শব্দ গণনা (Count Words):**  \n",
        "   - প্রতিটি টেক্সটকে **সংখ্যার ভেক্টরে** (একটি সিরিজ অফ নাম্বার) রূপান্তর করে।  \n",
        "   - প্রতিটি সংখ্যা দেখায় **ভোকাবুলারির শব্দটি কতবার** সেই টেক্সটে আছে।  \n",
        "   - *উদাহরণ:*  \n",
        "     - \"I love cats\" → [1, 1, 1, 0] (কারণ \"I\" ১ বার, \"love\" ১ বার, \"cats\" ১ বার, \"dogs\" ০ বার)।  \n",
        "     - \"I love dogs\" → [1, 1, 0, 1]  \n",
        "\n",
        "---\n",
        "\n",
        "### **গুরুত্বপূর্ণ ফিচারস (Features):**  \n",
        "- **Stop Words:** অপ্রয়োজনীয় শব্দ (যেমন: \"and\", \"the\") বাদ দেওয়া যায়।  \n",
        "- **Lowercase:** সব শব্দকে **ছোট হাতের অক্ষরে** (lowercase) রূপান্তর করে (যেমন: \"Cat\" → \"cat\")।  \n",
        "- **N-grams:** শুধু একক শব্দ না, **শব্দজোড়** (যেমন: \"good boy\") কাউন্ট করা যায়।  \n",
        "\n",
        "---\n",
        "\n",
        "\n",
        "\n",
        "### **কেন ব্যবহার করব?**  \n",
        "- **মেশিন লার্নিং মডেল** (যেমন: Naive Bayes, SVM) শুধু **সংখ্যা** বোঝে, টেক্সট না।  \n",
        "- **টেক্সট ক্লাসিফিকেশন** (যেমন: স্পাম ডিটেকশন), **সেন্টিমেন্ট অ্যানালাইসিস**-এ এটি খুবই জনপ্রিয়।  \n",
        "\n",
        "---\n",
        "\n",
        "### **সীমাবদ্ধতা (Limitations):**  \n",
        "- শুধু **শব্দের ফ্রিকোয়েন্সি** গণনা করে, শব্দের **অর্থ** বা **পরিপেক্ষিতা** বোঝে না।  \n",
        "- বড় ভোকাবুলারি হলে ম্যাট্রিক্স **স্পার্স** (অনেক শূন্য) হতে পারে, যা মডেলের জন্য চ্যালেঞ্জিং।"
      ],
      "metadata": {
        "id": "KsvT08vsCRyA"
      }
    },
    {
      "cell_type": "code",
      "execution_count": 2,
      "metadata": {
        "id": "XxEQdqkA_zwr"
      },
      "outputs": [],
      "source": [
        "from sklearn.feature_extraction.text import CountVectorizer"
      ]
    },
    {
      "cell_type": "code",
      "source": [
        "dataset = [\n",
        "    'My name is Mahtab Haque',\n",
        "    'I study at CUET',\n",
        "    'I live in Dhaka',\n",
        "    'I was born in DHaka'\n",
        "]"
      ],
      "metadata": {
        "id": "OTT-Hm8ACqTK"
      },
      "execution_count": 11,
      "outputs": []
    },
    {
      "cell_type": "code",
      "source": [
        "cv = CountVectorizer()\n",
        "x = cv.fit_transform(dataset)\n",
        "x"
      ],
      "metadata": {
        "colab": {
          "base_uri": "https://localhost:8080/"
        },
        "id": "1tNmqms0D8aW",
        "outputId": "04a69252-e5e2-46e1-808b-1e5acaf0267b"
      },
      "execution_count": 12,
      "outputs": [
        {
          "output_type": "execute_result",
          "data": {
            "text/plain": [
              "<4x13 sparse matrix of type '<class 'numpy.int64'>'\n",
              "\twith 15 stored elements in Compressed Sparse Row format>"
            ]
          },
          "metadata": {},
          "execution_count": 12
        }
      ]
    },
    {
      "cell_type": "code",
      "source": [
        "cv.get_feature_names_out()"
      ],
      "metadata": {
        "colab": {
          "base_uri": "https://localhost:8080/"
        },
        "id": "wMj5WwuGElfj",
        "outputId": "fa68e223-7d99-4d4d-d06c-351aa8afb013"
      },
      "execution_count": 13,
      "outputs": [
        {
          "output_type": "execute_result",
          "data": {
            "text/plain": [
              "array(['at', 'born', 'cuet', 'dhaka', 'haque', 'in', 'is', 'live',\n",
              "       'mahtab', 'my', 'name', 'study', 'was'], dtype=object)"
            ]
          },
          "metadata": {},
          "execution_count": 13
        }
      ]
    },
    {
      "cell_type": "code",
      "source": [
        "x.toarray()"
      ],
      "metadata": {
        "colab": {
          "base_uri": "https://localhost:8080/"
        },
        "id": "TcceUcDJE26o",
        "outputId": "f11e94f0-bf9f-4b87-bebe-7e45e60860f5"
      },
      "execution_count": 14,
      "outputs": [
        {
          "output_type": "execute_result",
          "data": {
            "text/plain": [
              "array([[0, 0, 0, 0, 1, 0, 1, 0, 1, 1, 1, 0, 0],\n",
              "       [1, 0, 1, 0, 0, 0, 0, 0, 0, 0, 0, 1, 0],\n",
              "       [0, 0, 0, 1, 0, 1, 0, 1, 0, 0, 0, 0, 0],\n",
              "       [0, 1, 0, 1, 0, 1, 0, 0, 0, 0, 0, 0, 1]])"
            ]
          },
          "metadata": {},
          "execution_count": 14
        }
      ]
    }
  ]
}