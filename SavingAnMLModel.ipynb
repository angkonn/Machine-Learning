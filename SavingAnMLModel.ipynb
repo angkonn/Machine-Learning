{
  "nbformat": 4,
  "nbformat_minor": 0,
  "metadata": {
    "colab": {
      "provenance": []
    },
    "kernelspec": {
      "name": "python3",
      "display_name": "Python 3"
    },
    "language_info": {
      "name": "python"
    }
  },
  "cells": [
    {
      "cell_type": "code",
      "execution_count": 1,
      "metadata": {
        "colab": {
          "base_uri": "https://localhost:8080/"
        },
        "id": "Pe31jM6R504S",
        "outputId": "e0743cf1-1d32-43a7-9ef2-42e9f6f97bbb"
      },
      "outputs": [
        {
          "output_type": "stream",
          "name": "stdout",
          "text": [
            "Model trained!\n"
          ]
        }
      ],
      "source": [
        "from sklearn.ensemble import RandomForestClassifier\n",
        "from sklearn.datasets import make_classification\n",
        "\n",
        "# Create a dummy dataset\n",
        "X, y = make_classification(n_samples=100, n_features=4, random_state=42)\n",
        "\n",
        "# Train a model\n",
        "model = RandomForestClassifier(random_state=42)\n",
        "model.fit(X, y)\n",
        "print(\"Model trained!\")"
      ]
    },
    {
      "cell_type": "code",
      "source": [
        "import pickle as pk\n",
        "\n",
        "# Save the model to a file named \"my_model.pkl\"\n",
        "with open('my_model.pkl', 'wb') as file:\n",
        "    pk.dump(model, file)\n",
        "print(\"Model saved!\")"
      ],
      "metadata": {
        "colab": {
          "base_uri": "https://localhost:8080/"
        },
        "id": "O8Rc7rjT6BDs",
        "outputId": "aaff9177-5c48-45b1-bccc-babdb1dbb1f5"
      },
      "execution_count": 2,
      "outputs": [
        {
          "output_type": "stream",
          "name": "stdout",
          "text": [
            "Model saved!\n"
          ]
        }
      ]
    },
    {
      "cell_type": "code",
      "source": [
        "# Load the saved model\n",
        "with open('my_model.pkl', 'rb') as file:  # 'rb' = read in binary mode\n",
        "    loaded_model = pk.load(file)\n",
        "print(\"Model reloaded!\")"
      ],
      "metadata": {
        "colab": {
          "base_uri": "https://localhost:8080/"
        },
        "id": "9fQbCKmg6GwO",
        "outputId": "b63b552a-f86d-48b8-cc3d-1ac23ee1e66f"
      },
      "execution_count": 3,
      "outputs": [
        {
          "output_type": "stream",
          "name": "stdout",
          "text": [
            "Model reloaded!\n"
          ]
        }
      ]
    },
    {
      "cell_type": "code",
      "source": [
        "# Test the reloaded model\n",
        "sample_data = [[-1.5, 0.8, 2.4, -0.3]]  # Example input\n",
        "prediction = loaded_model.predict(sample_data)\n",
        "print(f\"Prediction: {prediction[0]}\")"
      ],
      "metadata": {
        "colab": {
          "base_uri": "https://localhost:8080/"
        },
        "id": "xHgDd-R26LqO",
        "outputId": "6753363b-9035-45f2-b533-bd88595430cc"
      },
      "execution_count": 4,
      "outputs": [
        {
          "output_type": "stream",
          "name": "stdout",
          "text": [
            "Prediction: 0\n"
          ]
        }
      ]
    }
  ]
}