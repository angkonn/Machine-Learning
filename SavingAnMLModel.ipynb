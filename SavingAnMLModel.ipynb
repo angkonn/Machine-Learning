{
  "nbformat": 4,
  "nbformat_minor": 0,
  "metadata": {
    "colab": {
      "provenance": []
    },
    "kernelspec": {
      "name": "python3",
      "display_name": "Python 3"
    },
    "language_info": {
      "name": "python"
    }
  },
  "cells": [
    {
      "cell_type": "code",
      "execution_count": 2,
      "metadata": {
        "colab": {
          "base_uri": "https://localhost:8080/"
        },
        "id": "Pe31jM6R504S",
        "outputId": "ae93074a-1e8e-4be9-98e9-0d4a2ea2e957"
      },
      "outputs": [
        {
          "output_type": "stream",
          "name": "stdout",
          "text": [
            "Model trained!\n"
          ]
        }
      ],
      "source": [
        "from sklearn.ensemble import RandomForestClassifier\n",
        "from sklearn.datasets import make_classification\n",
        "\n",
        "# Create a dummy dataset\n",
        "X, y = make_classification(n_samples=100, n_features=4, random_state=42)\n",
        "\n",
        "# Train a model\n",
        "model = RandomForestClassifier(random_state=42)\n",
        "model.fit(X, y)\n",
        "print(\"Model trained!\")"
      ]
    },
    {
      "cell_type": "code",
      "source": [
        "import pickle as pk\n",
        "\n",
        "# Save the model to a file named \"my_model.pkl\"\n",
        "with open('my_model.pkl', 'wb') as file:\n",
        "    pk.dump(model, file)\n",
        "print(\"Model saved!\")"
      ],
      "metadata": {
        "colab": {
          "base_uri": "https://localhost:8080/"
        },
        "id": "O8Rc7rjT6BDs",
        "outputId": "8728c62e-49f0-4158-fc92-2bcd3b9ed572"
      },
      "execution_count": 3,
      "outputs": [
        {
          "output_type": "stream",
          "name": "stdout",
          "text": [
            "Model saved!\n"
          ]
        }
      ]
    },
    {
      "cell_type": "code",
      "source": [
        "# Load the saved model\n",
        "with open('my_model.pkl', 'rb') as file:  # 'rb' = read in binary mode\n",
        "    loaded_model = pk.load(file)\n",
        "print(\"Model reloaded!\")"
      ],
      "metadata": {
        "id": "9fQbCKmg6GwO",
        "outputId": "3f46fe7f-db8a-4ef1-881e-5ab64286da4e",
        "colab": {
          "base_uri": "https://localhost:8080/"
        }
      },
      "execution_count": 4,
      "outputs": [
        {
          "output_type": "stream",
          "name": "stdout",
          "text": [
            "Model reloaded!\n"
          ]
        }
      ]
    },
    {
      "cell_type": "code",
      "source": [
        "# Test the reloaded model\n",
        "sample_data = [[-1.5, 0.8, 2.4, -0.3]]  # Example input\n",
        "prediction = loaded_model.predict(sample_data)\n",
        "print(f\"Prediction: {prediction[0]}\")"
      ],
      "metadata": {
        "id": "xHgDd-R26LqO",
        "outputId": "183eb652-f9c7-4a69-b998-b48b37185ec0",
        "colab": {
          "base_uri": "https://localhost:8080/"
        }
      },
      "execution_count": 5,
      "outputs": [
        {
          "output_type": "stream",
          "name": "stdout",
          "text": [
            "Prediction: 0\n"
          ]
        }
      ]
    },
    {
      "cell_type": "markdown",
      "source": [
        "# Another Method\n"
      ],
      "metadata": {
        "id": "_ijNkf0sy7mm"
      }
    },
    {
      "cell_type": "code",
      "source": [
        "import joblib as jbl\n",
        "jbl.dump(model, 'my_model2')\n",
        "print(\"Model saved!\")"
      ],
      "metadata": {
        "colab": {
          "base_uri": "https://localhost:8080/"
        },
        "id": "kRx0dfKHy96U",
        "outputId": "d2a9d10d-e0bb-46bd-df6f-737ece4a992b"
      },
      "execution_count": 6,
      "outputs": [
        {
          "output_type": "stream",
          "name": "stdout",
          "text": [
            "Model saved!\n"
          ]
        }
      ]
    },
    {
      "cell_type": "code",
      "source": [
        "#importing\n",
        "jbl.load('my_model2')\n",
        "print(\"Model reloaded!\")"
      ],
      "metadata": {
        "colab": {
          "base_uri": "https://localhost:8080/"
        },
        "id": "LjC7FMcAzRzQ",
        "outputId": "9476c45b-ac17-40bf-f988-9d19e5d2ef11"
      },
      "execution_count": 7,
      "outputs": [
        {
          "output_type": "stream",
          "name": "stdout",
          "text": [
            "Model reloaded!\n"
          ]
        }
      ]
    },
    {
      "cell_type": "code",
      "source": [
        "model2=jbl.load('my_model2')\n",
        "sample_data = [[-1.5, 0.8, 2.4, -0.3]]  # Example input\n",
        "prediction = model2.predict(sample_data)\n",
        "prediction"
      ],
      "metadata": {
        "colab": {
          "base_uri": "https://localhost:8080/"
        },
        "id": "2oTFcx0DzW27",
        "outputId": "77d7198c-c4b9-4599-f872-988109bd97c0"
      },
      "execution_count": 10,
      "outputs": [
        {
          "output_type": "execute_result",
          "data": {
            "text/plain": [
              "array([0])"
            ]
          },
          "metadata": {},
          "execution_count": 10
        }
      ]
    }
  ]
}